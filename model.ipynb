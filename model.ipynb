{
  "cells": [
    {
      "cell_type": "markdown",
      "source": [
        "Step 1: Import the Dependencies"
      ],
      "metadata": {
        "id": "DnIKpmZJR7ke"
      }
    },
    {
      "cell_type": "code",
      "execution_count": null,
      "metadata": {
        "colab": {
          "base_uri": "https://localhost:8080/"
        },
        "id": "j5AiFh9Dd7K7",
        "outputId": "54ca9b4a-f289-4f68-912f-9c3f324d1ec7"
      },
      "outputs": [
        {
          "name": "stdout",
          "output_type": "stream",
          "text": [
            "Requirement already satisfied: pandas in /usr/local/lib/python3.10/dist-packages (2.0.3)\n",
            "Requirement already satisfied: python-dateutil>=2.8.2 in /usr/local/lib/python3.10/dist-packages (from pandas) (2.8.2)\n",
            "Requirement already satisfied: pytz>=2020.1 in /usr/local/lib/python3.10/dist-packages (from pandas) (2024.1)\n",
            "Requirement already satisfied: tzdata>=2022.1 in /usr/local/lib/python3.10/dist-packages (from pandas) (2024.1)\n",
            "Requirement already satisfied: numpy>=1.21.0 in /usr/local/lib/python3.10/dist-packages (from pandas) (1.25.2)\n",
            "Requirement already satisfied: six>=1.5 in /usr/local/lib/python3.10/dist-packages (from python-dateutil>=2.8.2->pandas) (1.16.0)\n"
          ]
        }
      ],
      "source": [
        "!pip install pandas"
      ]
    },
    {
      "cell_type": "markdown",
      "source": [
        "Step 2: Loading the SME Dataset"
      ],
      "metadata": {
        "id": "EZ1YdXd6SDz4"
      }
    },
    {
      "cell_type": "code",
      "execution_count": null,
      "metadata": {
        "colab": {
          "base_uri": "https://localhost:8080/"
        },
        "id": "4jv2hctGeYnA",
        "outputId": "bd9ac53e-5eaa-4259-a176-c73a9ca7d975"
      },
      "outputs": [
        {
          "name": "stdout",
          "output_type": "stream",
          "text": [
            "                 Company Name    Industry  \\\n",
            "0             Johnson-Sanchez    Engineer   \n",
            "1             Richardson-Pugh  Strategize   \n",
            "2  Conrad, Mejia and Ferguson  Facilitate   \n",
            "3                   Jones Ltd      Target   \n",
            "4                  Roy-Miller  Whiteboard   \n",
            "\n",
            "                                       Location  Size (Number of employees)  \\\n",
            "0  East Collintown, South Carolina, Puerto Rico                         727   \n",
            "1             Lake Jennifer, Wisconsin, Armenia                        7454   \n",
            "2        Hallport, Pennsylvania, Western Sahara                        3695   \n",
            "3                   West Amyview, Ohio, Moldova                         922   \n",
            "4                 South Margaret, Indiana, Iraq                        3641   \n",
            "\n",
            "  Size (Revenue)                 Wallet Address (Public key)   GSTN (GST no.)  \\\n",
            "0     $4 million  0xb9a6b5b4a886e0c92393713974820aeea914a2dd  7IVT3XH1N007QLN   \n",
            "1    $14 million  0xaacfd03813adf50aa46b6d5d0740aeb09e0bd8ff  7VPIZPBK069Q6QG   \n",
            "2   $191 million  0x03b57c5c239dbca6d4692fc2f977438587abe7cc  0KXAOTZLR2SGUED   \n",
            "3   $447 million  0x88a0054f9e5752cdd10ff5bf0401c18fe8f54180  DD6RXDUBT3PQEAD   \n",
            "4   $430 million  0x872133a6e864bc9f73d79692afd8616511014e1c  KHXGG0NUN66ZG8Z   \n",
            "\n",
            "          IT returns    Aadhar no.     PAN no.  ...  \\\n",
            "0  Filed for FY 2019  5.440000e+11  SESNP2383U  ...   \n",
            "1  Filed for FY 2020  3.330000e+11  JDTXO6772V  ...   \n",
            "2  Filed for FY 2021  6.630000e+11  ZULXW7620F  ...   \n",
            "3  Filed for FY 2021  9.860000e+11  LLPMZ7381W  ...   \n",
            "4  Filed for FY 2022  1.000000e+12  CYKCR7222U  ...   \n",
            "\n",
            "               Revenue Projections              Profit Projections  \\\n",
            "0  $491 million (next fiscal year)  $88 million (next fiscal year)   \n",
            "1  $438 million (next fiscal year)  $22 million (next fiscal year)   \n",
            "2  $315 million (next fiscal year)  $23 million (next fiscal year)   \n",
            "3  $447 million (next fiscal year)  $64 million (next fiscal year)   \n",
            "4  $433 million (next fiscal year)  $63 million (next fiscal year)   \n",
            "\n",
            "         Customer Growth                 Market Share Projections  \\\n",
            "0  66% increase annually  Aim to capture 37% of the global market   \n",
            "1  17% increase annually  Aim to capture 45% of the global market   \n",
            "2   6% increase annually  Aim to capture 32% of the global market   \n",
            "3  65% increase annually   Aim to capture 4% of the global market   \n",
            "4  91% increase annually  Aim to capture 24% of the global market   \n",
            "\n",
            "                                     Expansion Plans  \\\n",
            "0  Customer what option chance election water.; C...   \n",
            "1  During rock player politics.; Camera court its...   \n",
            "2  Year event participant hope consumer set.; And...   \n",
            "3  Future again light.; How stand result must cit...   \n",
            "4  School participant coach dream raise speak rul...   \n",
            "\n",
            "  Company Registration Number Country of Incorporation  \\\n",
            "0                  5084980374                  Ecuador   \n",
            "1                  2573193475                  Germany   \n",
            "2                  5818692525                  Bahrain   \n",
            "3                  7757074578                    Kenya   \n",
            "4                  2918684175              Timor-Leste   \n",
            "\n",
            "  Tax Identification Number Patent/Trademark Number       Type  \n",
            "0                 618247614             US992650758  Trademark  \n",
            "1                 579368223             US262792296  Trademark  \n",
            "2                 698844000             US390805909     Patent  \n",
            "3                 729204088             US799947733  Trademark  \n",
            "4                 973269860             US786118538     Patent  \n",
            "\n",
            "[5 rows x 37 columns]\n"
          ]
        }
      ],
      "source": [
        "import pandas as pd\n",
        "\n",
        "df = pd.read_csv(\"company_data.csv\")\n",
        "\n",
        "print(df.head(5))"
      ]
    },
    {
      "cell_type": "markdown",
      "source": [
        "Step 3: Data Cleaning"
      ],
      "metadata": {
        "id": "7iY0Yo3QSK1g"
      }
    },
    {
      "cell_type": "code",
      "execution_count": null,
      "metadata": {
        "colab": {
          "base_uri": "https://localhost:8080/"
        },
        "id": "68CQZR2VhCKC",
        "outputId": "58d88035-e20a-4835-8c3e-dab592829dd8"
      },
      "outputs": [
        {
          "name": "stdout",
          "output_type": "stream",
          "text": [
            "Company Name                   0\n",
            "Industry                       0\n",
            "Location                       0\n",
            "Size (Number of employees)     0\n",
            "Size (Revenue)                 0\n",
            "Wallet Address (Public key)    0\n",
            "GSTN (GST no.)                 0\n",
            "IT returns                     0\n",
            "Aadhar no.                     0\n",
            "PAN no.                        0\n",
            "Amount of Funding Needed       0\n",
            "Purpose of Funding             0\n",
            "Preferred Funding Type         0\n",
            "Mission Statement              0\n",
            "Products/Services              0\n",
            "Objectives                     0\n",
            "Key Achievements               0\n",
            "Industry Overview              0\n",
            "Target Market                  0\n",
            "Market Needs                   0\n",
            "Market Trends                  0\n",
            "Competitive Analysis           0\n",
            "Revenue Streams                0\n",
            "Cost Structure                 0\n",
            "Key Partnerships               0\n",
            "Distribution Channels          0\n",
            "Customer Segments              0\n",
            "Revenue Projections            0\n",
            "Profit Projections             0\n",
            "Customer Growth                0\n",
            "Market Share Projections       0\n",
            "Expansion Plans                0\n",
            "Company Registration Number    0\n",
            "Country of Incorporation       0\n",
            "Tax Identification Number      0\n",
            "Patent/Trademark Number        0\n",
            "Type                           0\n",
            "dtype: int64\n"
          ]
        }
      ],
      "source": [
        "# Check for missing values\n",
        "missing_values = df.isnull().sum()\n",
        "print(missing_values)\n"
      ]
    },
    {
      "cell_type": "code",
      "execution_count": null,
      "metadata": {
        "id": "Yep1gfg2jRVl"
      },
      "outputs": [],
      "source": [
        "# Drop rows with missing values\n",
        "df_cleaned = df.dropna()\n",
        "\n",
        "# Alternatively, fill missing values with a specific value\n",
        "# df_cleaned = df.fillna('N/A')\n"
      ]
    },
    {
      "cell_type": "code",
      "execution_count": null,
      "metadata": {
        "id": "_5gAAiDIja3N"
      },
      "outputs": [],
      "source": [
        "# Remove duplicate rows\n",
        "df_cleaned = df_cleaned.drop_duplicates()\n"
      ]
    },
    {
      "cell_type": "markdown",
      "source": [
        "Step 4: Data Preprocessing"
      ],
      "metadata": {
        "id": "VmhhxOwySRBD"
      }
    },
    {
      "cell_type": "code",
      "execution_count": null,
      "metadata": {
        "colab": {
          "base_uri": "https://localhost:8080/"
        },
        "id": "1BCje9i1jg1l",
        "outputId": "613fcc75-7863-4035-fd94-301c45331736"
      },
      "outputs": [
        {
          "name": "stdout",
          "output_type": "stream",
          "text": [
            "               Revenue Projections  revenue_projections_numeric\n",
            "0  $491 million (next fiscal year)                        491.0\n",
            "1  $438 million (next fiscal year)                        438.0\n",
            "2  $315 million (next fiscal year)                        315.0\n",
            "3  $447 million (next fiscal year)                        447.0\n",
            "4  $433 million (next fiscal year)                        433.0\n"
          ]
        }
      ],
      "source": [
        "def extract_numeric_value(revenue_str):\n",
        "    # Use regex to extract digits and convert to float\n",
        "    import re\n",
        "    match = re.search(r'\\$([\\d,]+)', revenue_str)\n",
        "    if match:\n",
        "        # Remove commas and convert to float\n",
        "        return float(match.group(1).replace(',', ''))\n",
        "    return None\n",
        "\n",
        "# Apply the function to the 'revenue_projections' column\n",
        "df['revenue_projections_numeric'] = df['Revenue Projections'].apply(extract_numeric_value)\n",
        "\n",
        "# Print the updated DataFrame to verify\n",
        "print(df[['Revenue Projections', 'revenue_projections_numeric']].head())"
      ]
    },
    {
      "cell_type": "code",
      "execution_count": null,
      "metadata": {
        "colab": {
          "base_uri": "https://localhost:8080/"
        },
        "id": "yxyOywyBnncV",
        "outputId": "37b0f3f7-4350-42ae-cee9-7c9389c0167e"
      },
      "outputs": [
        {
          "data": {
            "text/plain": [
              "Index(['Company Name', 'Industry', 'Location', 'Size (Number of employees)',\n",
              "       'Size (Revenue)', 'Wallet Address (Public key)', 'GSTN (GST no.)',\n",
              "       'IT returns', 'Aadhar no.', 'PAN no.', 'Amount of Funding Needed',\n",
              "       'Purpose of Funding', 'Preferred Funding Type', 'Mission Statement',\n",
              "       'Products/Services', 'Objectives', 'Key Achievements',\n",
              "       'Industry Overview', 'Target Market', 'Market Needs', 'Market Trends',\n",
              "       'Competitive Analysis', 'Revenue Streams', 'Cost Structure',\n",
              "       'Key Partnerships', 'Distribution Channels', 'Customer Segments',\n",
              "       'Revenue Projections', 'Profit Projections', 'Customer Growth',\n",
              "       'Market Share Projections', 'Expansion Plans',\n",
              "       'Company Registration Number', 'Country of Incorporation',\n",
              "       'Tax Identification Number', 'Patent/Trademark Number', 'Type'],\n",
              "      dtype='object')"
            ]
          },
          "execution_count": 22,
          "metadata": {},
          "output_type": "execute_result"
        }
      ],
      "source": [
        "df.columns"
      ]
    },
    {
      "cell_type": "code",
      "execution_count": null,
      "metadata": {
        "colab": {
          "base_uri": "https://localhost:8080/"
        },
        "id": "GzKqi9jWpqMu",
        "outputId": "bf655fe4-adcf-4e30-c5fa-88e5af19a615"
      },
      "outputs": [
        {
          "name": "stdout",
          "output_type": "stream",
          "text": [
            "               Revenue Projections  revenue_projections_numeric\n",
            "0  $491 million (next fiscal year)                        491.0\n",
            "1  $438 million (next fiscal year)                        438.0\n",
            "2  $315 million (next fiscal year)                        315.0\n",
            "3  $447 million (next fiscal year)                        447.0\n",
            "4  $433 million (next fiscal year)                        433.0\n",
            "                 Company Name                                      Location  \\\n",
            "0             Johnson-Sanchez  East Collintown, South Carolina, Puerto Rico   \n",
            "1             Richardson-Pugh             Lake Jennifer, Wisconsin, Armenia   \n",
            "2  Conrad, Mejia and Ferguson        Hallport, Pennsylvania, Western Sahara   \n",
            "3                   Jones Ltd                   West Amyview, Ohio, Moldova   \n",
            "4                  Roy-Miller                 South Margaret, Indiana, Iraq   \n",
            "\n",
            "   Size (Number of employees) Size (Revenue)  \\\n",
            "0                         727     $4 million   \n",
            "1                        7454    $14 million   \n",
            "2                        3695   $191 million   \n",
            "3                         922   $447 million   \n",
            "4                        3641   $430 million   \n",
            "\n",
            "                  Wallet Address (Public key)   GSTN (GST no.)  \\\n",
            "0  0xb9a6b5b4a886e0c92393713974820aeea914a2dd  7IVT3XH1N007QLN   \n",
            "1  0xaacfd03813adf50aa46b6d5d0740aeb09e0bd8ff  7VPIZPBK069Q6QG   \n",
            "2  0x03b57c5c239dbca6d4692fc2f977438587abe7cc  0KXAOTZLR2SGUED   \n",
            "3  0x88a0054f9e5752cdd10ff5bf0401c18fe8f54180  DD6RXDUBT3PQEAD   \n",
            "4  0x872133a6e864bc9f73d79692afd8616511014e1c  KHXGG0NUN66ZG8Z   \n",
            "\n",
            "          IT returns    Aadhar no.     PAN no. Amount of Funding Needed  ...  \\\n",
            "0  Filed for FY 2019  5.440000e+11  SESNP2383U              $81 million  ...   \n",
            "1  Filed for FY 2020  3.330000e+11  JDTXO6772V              $59 million  ...   \n",
            "2  Filed for FY 2021  6.630000e+11  ZULXW7620F              $18 million  ...   \n",
            "3  Filed for FY 2021  9.860000e+11  LLPMZ7381W              $27 million  ...   \n",
            "4  Filed for FY 2022  1.000000e+12  CYKCR7222U              $50 million  ...   \n",
            "\n",
            "  Industry_Unleash Industry_Utilize Industry_Visualize Industry_Whiteboard  \\\n",
            "0            False            False              False               False   \n",
            "1            False            False              False               False   \n",
            "2            False            False              False               False   \n",
            "3            False            False              False               False   \n",
            "4            False            False              False                True   \n",
            "\n",
            "  Purpose of Funding_Expansion Purpose of Funding_R&D  \\\n",
            "0                        False                   True   \n",
            "1                        False                  False   \n",
            "2                        False                  False   \n",
            "3                        False                  False   \n",
            "4                        False                  False   \n",
            "\n",
            "  Purpose of Funding_Working capital Preferred Funding Type_Debt  \\\n",
            "0                              False                       False   \n",
            "1                               True                       False   \n",
            "2                               True                       False   \n",
            "3                               True                       False   \n",
            "4                               True                        True   \n",
            "\n",
            "  Preferred Funding Type_Equity Preferred Funding Type_Grants  \n",
            "0                          True                         False  \n",
            "1                         False                          True  \n",
            "2                         False                          True  \n",
            "3                          True                         False  \n",
            "4                         False                         False  \n",
            "\n",
            "[5 rows x 101 columns]\n"
          ]
        }
      ],
      "source": [
        "import pandas as pd\n",
        "import re\n",
        "\n",
        "# Load the CSV file into a DataFrame\n",
        "df = pd.read_csv(\"company_data.csv\")\n",
        "\n",
        "# Function to extract numeric value from the revenue_projections column\n",
        "def extract_numeric_value(revenue_str):\n",
        "    match = re.search(r'\\$([\\d,]+)', revenue_str)\n",
        "    if match:\n",
        "        return float(match.group(1).replace(',', ''))\n",
        "    return None\n",
        "\n",
        "# Apply the function to the 'Revenue Projections' column\n",
        "df['revenue_projections_numeric'] = df['Revenue Projections'].apply(extract_numeric_value)\n",
        "\n",
        "# Print the updated DataFrame to verify\n",
        "print(df[['Revenue Projections', 'revenue_projections_numeric']].head())\n",
        "\n",
        "# Convert categorical variables to numeric using one-hot encoding\n",
        "df_preprocessed = pd.get_dummies(df, columns=['Industry', 'Purpose of Funding', 'Preferred Funding Type'])\n",
        "\n",
        "# Print the preprocessed DataFrame to verify\n",
        "print(df_preprocessed.head())\n"
      ]
    },
    {
      "cell_type": "code",
      "execution_count": null,
      "metadata": {
        "colab": {
          "base_uri": "https://localhost:8080/"
        },
        "id": "MrUmYze9qKdr",
        "outputId": "2a544df1-93c4-4ed9-d7d2-6b9b13fdfe81"
      },
      "outputs": [
        {
          "name": "stdout",
          "output_type": "stream",
          "text": [
            "          IT returns  it_returns_year\n",
            "0  Filed for FY 2019           2019.0\n",
            "1  Filed for FY 2020           2020.0\n",
            "2  Filed for FY 2021           2021.0\n",
            "3  Filed for FY 2021           2021.0\n",
            "4  Filed for FY 2022           2022.0\n"
          ]
        }
      ],
      "source": [
        "import pandas as pd\n",
        "import re\n",
        "\n",
        "# Load the CSV file into a DataFrame\n",
        "df = pd.read_csv(\"company_data.csv\")\n",
        "\n",
        "# Function to extract numeric value from 'it_returns' column\n",
        "def extract_year(it_returns_str):\n",
        "    match = re.search(r'(\\d{4})', it_returns_str)\n",
        "    if match:\n",
        "        return float(match.group(1))\n",
        "    return None\n",
        "\n",
        "# Apply the function to the 'it_returns' column to create a new column 'it_returns_year'\n",
        "df['it_returns_year'] = df['IT returns'].apply(extract_year)\n",
        "\n",
        "# Print the updated DataFrame to verify\n",
        "print(df[['IT returns', 'it_returns_year']].head())\n"
      ]
    },
    {
      "cell_type": "markdown",
      "source": [
        "Step 5: Saving the Prepocessed Data"
      ],
      "metadata": {
        "id": "VO5Oiop5SdAY"
      }
    },
    {
      "cell_type": "code",
      "execution_count": null,
      "metadata": {
        "id": "JJASVwdnsce_"
      },
      "outputs": [],
      "source": [
        "# Save the cleaned and preprocessed data to a new CSV file\n",
        "df_preprocessed.to_csv('company_details_cleaned.csv', index=False)\n"
      ]
    },
    {
      "cell_type": "markdown",
      "source": [
        "Step 6: Load Lenders DataSet\n"
      ],
      "metadata": {
        "id": "b1-9O6TNSvt4"
      }
    },
    {
      "cell_type": "code",
      "execution_count": null,
      "metadata": {
        "colab": {
          "base_uri": "https://localhost:8080/",
          "height": 694
        },
        "id": "CyBX5jXbSooY",
        "outputId": "22d8ace4-ef14-45f1-bb59-cd2be7ff0ea1"
      },
      "outputs": [
        {
          "data": {
            "application/vnd.google.colaboratory.intrinsic+json": {
              "summary": "{\n  \"name\": \"df\",\n  \"rows\": 10000,\n  \"fields\": [\n    {\n      \"column\": \"Lender Name\",\n      \"properties\": {\n        \"dtype\": \"string\",\n        \"num_unique_values\": 9386,\n        \"samples\": [\n          \"Stephen Miller\",\n          \"Victoria Gay\",\n          \"Anthony Garrett\"\n        ],\n        \"semantic_type\": \"\",\n        \"description\": \"\"\n      }\n    },\n    {\n      \"column\": \"Type\",\n      \"properties\": {\n        \"dtype\": \"category\",\n        \"num_unique_values\": 2,\n        \"samples\": [\n          \"Individual\",\n          \"Institutional\"\n        ],\n        \"semantic_type\": \"\",\n        \"description\": \"\"\n      }\n    },\n    {\n      \"column\": \"Location\",\n      \"properties\": {\n        \"dtype\": \"string\",\n        \"num_unique_values\": 10000,\n        \"samples\": [\n          \"Robersonland, Utah, Comoros\",\n          \"Port Joshua, New Hampshire, Nicaragua\"\n        ],\n        \"semantic_type\": \"\",\n        \"description\": \"\"\n      }\n    },\n    {\n      \"column\": \"Preferred Industries\",\n      \"properties\": {\n        \"dtype\": \"category\",\n        \"num_unique_values\": 125,\n        \"samples\": [\n          \"Renewable Energy, Finance, Finance\",\n          \"Technology, Healthcare, Renewable Energy\"\n        ],\n        \"semantic_type\": \"\",\n        \"description\": \"\"\n      }\n    },\n    {\n      \"column\": \"Preferred Loan Size Min\",\n      \"properties\": {\n        \"dtype\": \"number\",\n        \"std\": 114776,\n        \"min\": 100076,\n        \"max\": 499936,\n        \"num_unique_values\": 9884,\n        \"samples\": [\n          260196,\n          456814\n        ],\n        \"semantic_type\": \"\",\n        \"description\": \"\"\n      }\n    },\n    {\n      \"column\": \"Preferred Loan Size Max\",\n      \"properties\": {\n        \"dtype\": \"number\",\n        \"std\": 143568,\n        \"min\": 500066,\n        \"max\": 999992,\n        \"num_unique_values\": 9877,\n        \"samples\": [\n          970168,\n          557671\n        ],\n        \"semantic_type\": \"\",\n        \"description\": \"\"\n      }\n    },\n    {\n      \"column\": \"Loan Term Min\",\n      \"properties\": {\n        \"dtype\": \"number\",\n        \"std\": 2,\n        \"min\": 1,\n        \"max\": 10,\n        \"num_unique_values\": 10,\n        \"samples\": [\n          1,\n          2\n        ],\n        \"semantic_type\": \"\",\n        \"description\": \"\"\n      }\n    },\n    {\n      \"column\": \"Loan Term Max\",\n      \"properties\": {\n        \"dtype\": \"number\",\n        \"std\": 2,\n        \"min\": 1,\n        \"max\": 10,\n        \"num_unique_values\": 10,\n        \"samples\": [\n          3,\n          6\n        ],\n        \"semantic_type\": \"\",\n        \"description\": \"\"\n      }\n    },\n    {\n      \"column\": \"Risk Appetite\",\n      \"properties\": {\n        \"dtype\": \"category\",\n        \"num_unique_values\": 3,\n        \"samples\": [\n          \"Medium\",\n          \"Low\"\n        ],\n        \"semantic_type\": \"\",\n        \"description\": \"\"\n      }\n    },\n    {\n      \"column\": \"Lending History\",\n      \"properties\": {\n        \"dtype\": \"string\",\n        \"num_unique_values\": 10000,\n        \"samples\": [\n          \"Lent to Key Inc, Ramos-Thompson Ltd.\",\n          \"Lent to Gordon Inc, Powers, Bray and Hernandez Ltd.\"\n        ],\n        \"semantic_type\": \"\",\n        \"description\": \"\"\n      }\n    },\n    {\n      \"column\": \"Portfolio Details\",\n      \"properties\": {\n        \"dtype\": \"string\",\n        \"num_unique_values\": 9999,\n        \"samples\": [\n          \"Currently lending to Yates-Wilson Corp., Clark-Green Ltd.\",\n          \"Currently lending to Collins Group Corp., Sanders Inc Ltd.\"\n        ],\n        \"semantic_type\": \"\",\n        \"description\": \"\"\n      }\n    },\n    {\n      \"column\": \"Proof of Funds\",\n      \"properties\": {\n        \"dtype\": \"category\",\n        \"num_unique_values\": 1,\n        \"samples\": [\n          \"Available\"\n        ],\n        \"semantic_type\": \"\",\n        \"description\": \"\"\n      }\n    },\n    {\n      \"column\": \"Regulatory Compliance Documents\",\n      \"properties\": {\n        \"dtype\": \"category\",\n        \"num_unique_values\": 1,\n        \"samples\": [\n          \"Compliant\"\n        ],\n        \"semantic_type\": \"\",\n        \"description\": \"\"\n      }\n    },\n    {\n      \"column\": \"Wallet Address\",\n      \"properties\": {\n        \"dtype\": \"string\",\n        \"num_unique_values\": 10000,\n        \"samples\": [\n          \"0xe3cf57689e5140b8f3d0f35316132de50865ac5c\"\n        ],\n        \"semantic_type\": \"\",\n        \"description\": \"\"\n      }\n    }\n  ]\n}",
              "type": "dataframe",
              "variable_name": "df"
            },
            "text/html": [
              "\n",
              "  <div id=\"df-1e55d0dd-dc37-4a32-82c4-02310e2bfc4d\" class=\"colab-df-container\">\n",
              "    <div>\n",
              "<style scoped>\n",
              "    .dataframe tbody tr th:only-of-type {\n",
              "        vertical-align: middle;\n",
              "    }\n",
              "\n",
              "    .dataframe tbody tr th {\n",
              "        vertical-align: top;\n",
              "    }\n",
              "\n",
              "    .dataframe thead th {\n",
              "        text-align: right;\n",
              "    }\n",
              "</style>\n",
              "<table border=\"1\" class=\"dataframe\">\n",
              "  <thead>\n",
              "    <tr style=\"text-align: right;\">\n",
              "      <th></th>\n",
              "      <th>Lender Name</th>\n",
              "      <th>Type</th>\n",
              "      <th>Location</th>\n",
              "      <th>Preferred Industries</th>\n",
              "      <th>Preferred Loan Size Min</th>\n",
              "      <th>Preferred Loan Size Max</th>\n",
              "      <th>Loan Term Min</th>\n",
              "      <th>Loan Term Max</th>\n",
              "      <th>Risk Appetite</th>\n",
              "      <th>Lending History</th>\n",
              "      <th>Portfolio Details</th>\n",
              "      <th>Proof of Funds</th>\n",
              "      <th>Regulatory Compliance Documents</th>\n",
              "      <th>Wallet Address</th>\n",
              "    </tr>\n",
              "  </thead>\n",
              "  <tbody>\n",
              "    <tr>\n",
              "      <th>0</th>\n",
              "      <td>Carol Bush</td>\n",
              "      <td>Institutional</td>\n",
              "      <td>Chanfurt, Rhode Island, Sudan</td>\n",
              "      <td>Healthcare, Healthcare, Finance</td>\n",
              "      <td>235983</td>\n",
              "      <td>530234</td>\n",
              "      <td>4</td>\n",
              "      <td>8</td>\n",
              "      <td>Medium</td>\n",
              "      <td>Lent to Small-Randolph, Wright Inc Ltd.</td>\n",
              "      <td>Currently lending to Woods Group Corp., Rodrig...</td>\n",
              "      <td>Available</td>\n",
              "      <td>Compliant</td>\n",
              "      <td>0xf57a95a0e390f1327831ef8739a5521b479908a8</td>\n",
              "    </tr>\n",
              "    <tr>\n",
              "      <th>1</th>\n",
              "      <td>Rebecca Long</td>\n",
              "      <td>Institutional</td>\n",
              "      <td>Ronaldchester, Pennsylvania, Micronesia</td>\n",
              "      <td>Renewable Energy, Finance, Real Estate</td>\n",
              "      <td>287856</td>\n",
              "      <td>853680</td>\n",
              "      <td>2</td>\n",
              "      <td>6</td>\n",
              "      <td>Low</td>\n",
              "      <td>Lent to Duncan PLC, Gentry-Davis Ltd.</td>\n",
              "      <td>Currently lending to Henry and Sons Corp., Han...</td>\n",
              "      <td>Available</td>\n",
              "      <td>Compliant</td>\n",
              "      <td>0x0994945718ca2dd708ef84d910273741b910cddb</td>\n",
              "    </tr>\n",
              "    <tr>\n",
              "      <th>2</th>\n",
              "      <td>Lance Atkinson</td>\n",
              "      <td>Individual</td>\n",
              "      <td>Port Krista, Arkansas, Saint Lucia</td>\n",
              "      <td>Finance, Renewable Energy, Healthcare</td>\n",
              "      <td>144949</td>\n",
              "      <td>760298</td>\n",
              "      <td>5</td>\n",
              "      <td>4</td>\n",
              "      <td>High</td>\n",
              "      <td>Lent to Costa Ltd, Simpson-Ferrell Ltd.</td>\n",
              "      <td>Currently lending to Owens, Spencer and Ball C...</td>\n",
              "      <td>Available</td>\n",
              "      <td>Compliant</td>\n",
              "      <td>0x1f8c61fa4c37dc72d1971949b05e9bf6f45beffc</td>\n",
              "    </tr>\n",
              "    <tr>\n",
              "      <th>3</th>\n",
              "      <td>Marissa Brown</td>\n",
              "      <td>Individual</td>\n",
              "      <td>Kennethside, Arkansas, Paraguay</td>\n",
              "      <td>Technology, Renewable Energy, Finance</td>\n",
              "      <td>115982</td>\n",
              "      <td>531924</td>\n",
              "      <td>10</td>\n",
              "      <td>9</td>\n",
              "      <td>High</td>\n",
              "      <td>Lent to Parker LLC, Morgan-Tyler Ltd.</td>\n",
              "      <td>Currently lending to Collins Ltd Corp., Mitche...</td>\n",
              "      <td>Available</td>\n",
              "      <td>Compliant</td>\n",
              "      <td>0xd86f9484ad56091f7ddc6389deae3972664953db</td>\n",
              "    </tr>\n",
              "    <tr>\n",
              "      <th>4</th>\n",
              "      <td>William Gonzalez</td>\n",
              "      <td>Institutional</td>\n",
              "      <td>West Jason, South Carolina, Solomon Islands</td>\n",
              "      <td>Finance, Real Estate, Renewable Energy</td>\n",
              "      <td>431226</td>\n",
              "      <td>782967</td>\n",
              "      <td>10</td>\n",
              "      <td>6</td>\n",
              "      <td>High</td>\n",
              "      <td>Lent to Patterson, Carter and Lopez, Sutton-Ta...</td>\n",
              "      <td>Currently lending to Fletcher-Brown Corp., Bar...</td>\n",
              "      <td>Available</td>\n",
              "      <td>Compliant</td>\n",
              "      <td>0x65264b7fc2a04e651756c1234670e6e7668429dd</td>\n",
              "    </tr>\n",
              "  </tbody>\n",
              "</table>\n",
              "</div>\n",
              "    <div class=\"colab-df-buttons\">\n",
              "\n",
              "  <div class=\"colab-df-container\">\n",
              "    <button class=\"colab-df-convert\" onclick=\"convertToInteractive('df-1e55d0dd-dc37-4a32-82c4-02310e2bfc4d')\"\n",
              "            title=\"Convert this dataframe to an interactive table.\"\n",
              "            style=\"display:none;\">\n",
              "\n",
              "  <svg xmlns=\"http://www.w3.org/2000/svg\" height=\"24px\" viewBox=\"0 -960 960 960\">\n",
              "    <path d=\"M120-120v-720h720v720H120Zm60-500h600v-160H180v160Zm220 220h160v-160H400v160Zm0 220h160v-160H400v160ZM180-400h160v-160H180v160Zm440 0h160v-160H620v160ZM180-180h160v-160H180v160Zm440 0h160v-160H620v160Z\"/>\n",
              "  </svg>\n",
              "    </button>\n",
              "\n",
              "  <style>\n",
              "    .colab-df-container {\n",
              "      display:flex;\n",
              "      gap: 12px;\n",
              "    }\n",
              "\n",
              "    .colab-df-convert {\n",
              "      background-color: #E8F0FE;\n",
              "      border: none;\n",
              "      border-radius: 50%;\n",
              "      cursor: pointer;\n",
              "      display: none;\n",
              "      fill: #1967D2;\n",
              "      height: 32px;\n",
              "      padding: 0 0 0 0;\n",
              "      width: 32px;\n",
              "    }\n",
              "\n",
              "    .colab-df-convert:hover {\n",
              "      background-color: #E2EBFA;\n",
              "      box-shadow: 0px 1px 2px rgba(60, 64, 67, 0.3), 0px 1px 3px 1px rgba(60, 64, 67, 0.15);\n",
              "      fill: #174EA6;\n",
              "    }\n",
              "\n",
              "    .colab-df-buttons div {\n",
              "      margin-bottom: 4px;\n",
              "    }\n",
              "\n",
              "    [theme=dark] .colab-df-convert {\n",
              "      background-color: #3B4455;\n",
              "      fill: #D2E3FC;\n",
              "    }\n",
              "\n",
              "    [theme=dark] .colab-df-convert:hover {\n",
              "      background-color: #434B5C;\n",
              "      box-shadow: 0px 1px 3px 1px rgba(0, 0, 0, 0.15);\n",
              "      filter: drop-shadow(0px 1px 2px rgba(0, 0, 0, 0.3));\n",
              "      fill: #FFFFFF;\n",
              "    }\n",
              "  </style>\n",
              "\n",
              "    <script>\n",
              "      const buttonEl =\n",
              "        document.querySelector('#df-1e55d0dd-dc37-4a32-82c4-02310e2bfc4d button.colab-df-convert');\n",
              "      buttonEl.style.display =\n",
              "        google.colab.kernel.accessAllowed ? 'block' : 'none';\n",
              "\n",
              "      async function convertToInteractive(key) {\n",
              "        const element = document.querySelector('#df-1e55d0dd-dc37-4a32-82c4-02310e2bfc4d');\n",
              "        const dataTable =\n",
              "          await google.colab.kernel.invokeFunction('convertToInteractive',\n",
              "                                                    [key], {});\n",
              "        if (!dataTable) return;\n",
              "\n",
              "        const docLinkHtml = 'Like what you see? Visit the ' +\n",
              "          '<a target=\"_blank\" href=https://colab.research.google.com/notebooks/data_table.ipynb>data table notebook</a>'\n",
              "          + ' to learn more about interactive tables.';\n",
              "        element.innerHTML = '';\n",
              "        dataTable['output_type'] = 'display_data';\n",
              "        await google.colab.output.renderOutput(dataTable, element);\n",
              "        const docLink = document.createElement('div');\n",
              "        docLink.innerHTML = docLinkHtml;\n",
              "        element.appendChild(docLink);\n",
              "      }\n",
              "    </script>\n",
              "  </div>\n",
              "\n",
              "\n",
              "<div id=\"df-dec6e202-b706-4f32-8ea7-44b21cec2420\">\n",
              "  <button class=\"colab-df-quickchart\" onclick=\"quickchart('df-dec6e202-b706-4f32-8ea7-44b21cec2420')\"\n",
              "            title=\"Suggest charts\"\n",
              "            style=\"display:none;\">\n",
              "\n",
              "<svg xmlns=\"http://www.w3.org/2000/svg\" height=\"24px\"viewBox=\"0 0 24 24\"\n",
              "     width=\"24px\">\n",
              "    <g>\n",
              "        <path d=\"M19 3H5c-1.1 0-2 .9-2 2v14c0 1.1.9 2 2 2h14c1.1 0 2-.9 2-2V5c0-1.1-.9-2-2-2zM9 17H7v-7h2v7zm4 0h-2V7h2v10zm4 0h-2v-4h2v4z\"/>\n",
              "    </g>\n",
              "</svg>\n",
              "  </button>\n",
              "\n",
              "<style>\n",
              "  .colab-df-quickchart {\n",
              "      --bg-color: #E8F0FE;\n",
              "      --fill-color: #1967D2;\n",
              "      --hover-bg-color: #E2EBFA;\n",
              "      --hover-fill-color: #174EA6;\n",
              "      --disabled-fill-color: #AAA;\n",
              "      --disabled-bg-color: #DDD;\n",
              "  }\n",
              "\n",
              "  [theme=dark] .colab-df-quickchart {\n",
              "      --bg-color: #3B4455;\n",
              "      --fill-color: #D2E3FC;\n",
              "      --hover-bg-color: #434B5C;\n",
              "      --hover-fill-color: #FFFFFF;\n",
              "      --disabled-bg-color: #3B4455;\n",
              "      --disabled-fill-color: #666;\n",
              "  }\n",
              "\n",
              "  .colab-df-quickchart {\n",
              "    background-color: var(--bg-color);\n",
              "    border: none;\n",
              "    border-radius: 50%;\n",
              "    cursor: pointer;\n",
              "    display: none;\n",
              "    fill: var(--fill-color);\n",
              "    height: 32px;\n",
              "    padding: 0;\n",
              "    width: 32px;\n",
              "  }\n",
              "\n",
              "  .colab-df-quickchart:hover {\n",
              "    background-color: var(--hover-bg-color);\n",
              "    box-shadow: 0 1px 2px rgba(60, 64, 67, 0.3), 0 1px 3px 1px rgba(60, 64, 67, 0.15);\n",
              "    fill: var(--button-hover-fill-color);\n",
              "  }\n",
              "\n",
              "  .colab-df-quickchart-complete:disabled,\n",
              "  .colab-df-quickchart-complete:disabled:hover {\n",
              "    background-color: var(--disabled-bg-color);\n",
              "    fill: var(--disabled-fill-color);\n",
              "    box-shadow: none;\n",
              "  }\n",
              "\n",
              "  .colab-df-spinner {\n",
              "    border: 2px solid var(--fill-color);\n",
              "    border-color: transparent;\n",
              "    border-bottom-color: var(--fill-color);\n",
              "    animation:\n",
              "      spin 1s steps(1) infinite;\n",
              "  }\n",
              "\n",
              "  @keyframes spin {\n",
              "    0% {\n",
              "      border-color: transparent;\n",
              "      border-bottom-color: var(--fill-color);\n",
              "      border-left-color: var(--fill-color);\n",
              "    }\n",
              "    20% {\n",
              "      border-color: transparent;\n",
              "      border-left-color: var(--fill-color);\n",
              "      border-top-color: var(--fill-color);\n",
              "    }\n",
              "    30% {\n",
              "      border-color: transparent;\n",
              "      border-left-color: var(--fill-color);\n",
              "      border-top-color: var(--fill-color);\n",
              "      border-right-color: var(--fill-color);\n",
              "    }\n",
              "    40% {\n",
              "      border-color: transparent;\n",
              "      border-right-color: var(--fill-color);\n",
              "      border-top-color: var(--fill-color);\n",
              "    }\n",
              "    60% {\n",
              "      border-color: transparent;\n",
              "      border-right-color: var(--fill-color);\n",
              "    }\n",
              "    80% {\n",
              "      border-color: transparent;\n",
              "      border-right-color: var(--fill-color);\n",
              "      border-bottom-color: var(--fill-color);\n",
              "    }\n",
              "    90% {\n",
              "      border-color: transparent;\n",
              "      border-bottom-color: var(--fill-color);\n",
              "    }\n",
              "  }\n",
              "</style>\n",
              "\n",
              "  <script>\n",
              "    async function quickchart(key) {\n",
              "      const quickchartButtonEl =\n",
              "        document.querySelector('#' + key + ' button');\n",
              "      quickchartButtonEl.disabled = true;  // To prevent multiple clicks.\n",
              "      quickchartButtonEl.classList.add('colab-df-spinner');\n",
              "      try {\n",
              "        const charts = await google.colab.kernel.invokeFunction(\n",
              "            'suggestCharts', [key], {});\n",
              "      } catch (error) {\n",
              "        console.error('Error during call to suggestCharts:', error);\n",
              "      }\n",
              "      quickchartButtonEl.classList.remove('colab-df-spinner');\n",
              "      quickchartButtonEl.classList.add('colab-df-quickchart-complete');\n",
              "    }\n",
              "    (() => {\n",
              "      let quickchartButtonEl =\n",
              "        document.querySelector('#df-dec6e202-b706-4f32-8ea7-44b21cec2420 button');\n",
              "      quickchartButtonEl.style.display =\n",
              "        google.colab.kernel.accessAllowed ? 'block' : 'none';\n",
              "    })();\n",
              "  </script>\n",
              "</div>\n",
              "\n",
              "    </div>\n",
              "  </div>\n"
            ],
            "text/plain": [
              "        Lender Name           Type  \\\n",
              "0        Carol Bush  Institutional   \n",
              "1      Rebecca Long  Institutional   \n",
              "2    Lance Atkinson     Individual   \n",
              "3     Marissa Brown     Individual   \n",
              "4  William Gonzalez  Institutional   \n",
              "\n",
              "                                      Location  \\\n",
              "0                Chanfurt, Rhode Island, Sudan   \n",
              "1      Ronaldchester, Pennsylvania, Micronesia   \n",
              "2           Port Krista, Arkansas, Saint Lucia   \n",
              "3              Kennethside, Arkansas, Paraguay   \n",
              "4  West Jason, South Carolina, Solomon Islands   \n",
              "\n",
              "                     Preferred Industries  Preferred Loan Size Min  \\\n",
              "0         Healthcare, Healthcare, Finance                   235983   \n",
              "1  Renewable Energy, Finance, Real Estate                   287856   \n",
              "2   Finance, Renewable Energy, Healthcare                   144949   \n",
              "3   Technology, Renewable Energy, Finance                   115982   \n",
              "4  Finance, Real Estate, Renewable Energy                   431226   \n",
              "\n",
              "   Preferred Loan Size Max  Loan Term Min  Loan Term Max Risk Appetite  \\\n",
              "0                   530234              4              8        Medium   \n",
              "1                   853680              2              6           Low   \n",
              "2                   760298              5              4          High   \n",
              "3                   531924             10              9          High   \n",
              "4                   782967             10              6          High   \n",
              "\n",
              "                                     Lending History  \\\n",
              "0            Lent to Small-Randolph, Wright Inc Ltd.   \n",
              "1              Lent to Duncan PLC, Gentry-Davis Ltd.   \n",
              "2            Lent to Costa Ltd, Simpson-Ferrell Ltd.   \n",
              "3              Lent to Parker LLC, Morgan-Tyler Ltd.   \n",
              "4  Lent to Patterson, Carter and Lopez, Sutton-Ta...   \n",
              "\n",
              "                                   Portfolio Details Proof of Funds  \\\n",
              "0  Currently lending to Woods Group Corp., Rodrig...      Available   \n",
              "1  Currently lending to Henry and Sons Corp., Han...      Available   \n",
              "2  Currently lending to Owens, Spencer and Ball C...      Available   \n",
              "3  Currently lending to Collins Ltd Corp., Mitche...      Available   \n",
              "4  Currently lending to Fletcher-Brown Corp., Bar...      Available   \n",
              "\n",
              "  Regulatory Compliance Documents                              Wallet Address  \n",
              "0                       Compliant  0xf57a95a0e390f1327831ef8739a5521b479908a8  \n",
              "1                       Compliant  0x0994945718ca2dd708ef84d910273741b910cddb  \n",
              "2                       Compliant  0x1f8c61fa4c37dc72d1971949b05e9bf6f45beffc  \n",
              "3                       Compliant  0xd86f9484ad56091f7ddc6389deae3972664953db  \n",
              "4                       Compliant  0x65264b7fc2a04e651756c1234670e6e7668429dd  "
            ]
          },
          "execution_count": 9,
          "metadata": {},
          "output_type": "execute_result"
        }
      ],
      "source": [
        "import pandas as pd\n",
        "\n",
        "# Read the CSV file\n",
        "df = pd.read_csv('lender_data.csv')\n",
        "\n",
        "# Display the first few rows of the DataFrame\n",
        "df.head()\n"
      ]
    },
    {
      "cell_type": "markdown",
      "metadata": {
        "id": "By-b8hxMhSMC"
      },
      "source": [
        "Step 7: Data Cleaning"
      ]
    },
    {
      "cell_type": "code",
      "execution_count": null,
      "metadata": {
        "colab": {
          "base_uri": "https://localhost:8080/"
        },
        "id": "B5L3us38ki21",
        "outputId": "1490dd92-5f61-40ed-87db-59cdef0e55b8"
      },
      "outputs": [
        {
          "name": "stdout",
          "output_type": "stream",
          "text": [
            "Lender Name                        0\n",
            "Type                               0\n",
            "Location                           0\n",
            "Preferred Industries               0\n",
            "Preferred Loan Size Min            0\n",
            "Preferred Loan Size Max            0\n",
            "Loan Term Min                      0\n",
            "Loan Term Max                      0\n",
            "Risk Appetite                      0\n",
            "Lending History                    0\n",
            "Portfolio Details                  0\n",
            "Proof of Funds                     0\n",
            "Regulatory Compliance Documents    0\n",
            "Wallet Address                     0\n",
            "dtype: int64\n"
          ]
        }
      ],
      "source": [
        "# Check for missing values\n",
        "missing_values = df.isnull().sum()\n",
        "print(missing_values)\n"
      ]
    },
    {
      "cell_type": "code",
      "execution_count": null,
      "metadata": {
        "id": "Fb5oaoaHq4SB"
      },
      "outputs": [],
      "source": [
        "# Drop rows with missing values\n",
        "df_cleaned = df.dropna()\n",
        "\n",
        "# Alternatively, fill missing values with a specific value\n",
        "# df_cleaned = df.fillna('N/A')\n"
      ]
    },
    {
      "cell_type": "code",
      "execution_count": null,
      "metadata": {
        "id": "-69RQSZMAI7E"
      },
      "outputs": [],
      "source": [
        "# Remove duplicate rows\n",
        "df_cleaned = df_cleaned.drop_duplicates()\n"
      ]
    },
    {
      "cell_type": "markdown",
      "source": [
        "Step 8: Data Preprocessing"
      ],
      "metadata": {
        "id": "DBlu1b-ZTXzf"
      }
    },
    {
      "cell_type": "code",
      "execution_count": null,
      "metadata": {
        "colab": {
          "base_uri": "https://localhost:8080/"
        },
        "id": "K90L7HMcALOh",
        "outputId": "f2dd71a2-1556-42fc-e328-2449b7e2b9d3"
      },
      "outputs": [
        {
          "name": "stdout",
          "output_type": "stream",
          "text": [
            "        Lender Name           Type  \\\n",
            "0        Carol Bush  Institutional   \n",
            "1      Rebecca Long  Institutional   \n",
            "2    Lance Atkinson     Individual   \n",
            "3     Marissa Brown     Individual   \n",
            "4  William Gonzalez  Institutional   \n",
            "\n",
            "                                      Location  \\\n",
            "0                Chanfurt, Rhode Island, Sudan   \n",
            "1      Ronaldchester, Pennsylvania, Micronesia   \n",
            "2           Port Krista, Arkansas, Saint Lucia   \n",
            "3              Kennethside, Arkansas, Paraguay   \n",
            "4  West Jason, South Carolina, Solomon Islands   \n",
            "\n",
            "                     Preferred Industries  Preferred Loan Size Min  \\\n",
            "0         Healthcare, Healthcare, Finance                   235983   \n",
            "1  Renewable Energy, Finance, Real Estate                   287856   \n",
            "2   Finance, Renewable Energy, Healthcare                   144949   \n",
            "3   Technology, Renewable Energy, Finance                   115982   \n",
            "4  Finance, Real Estate, Renewable Energy                   431226   \n",
            "\n",
            "   Preferred Loan Size Max  Loan Term Min  Loan Term Max Risk Appetite  \\\n",
            "0                   530234              4              8        Medium   \n",
            "1                   853680              2              6           Low   \n",
            "2                   760298              5              4          High   \n",
            "3                   531924             10              9          High   \n",
            "4                   782967             10              6          High   \n",
            "\n",
            "                                     Lending History  \\\n",
            "0            Lent to Small-Randolph, Wright Inc Ltd.   \n",
            "1              Lent to Duncan PLC, Gentry-Davis Ltd.   \n",
            "2            Lent to Costa Ltd, Simpson-Ferrell Ltd.   \n",
            "3              Lent to Parker LLC, Morgan-Tyler Ltd.   \n",
            "4  Lent to Patterson, Carter and Lopez, Sutton-Ta...   \n",
            "\n",
            "                                   Portfolio Details Proof of Funds  \\\n",
            "0  Currently lending to Woods Group Corp., Rodrig...      Available   \n",
            "1  Currently lending to Henry and Sons Corp., Han...      Available   \n",
            "2  Currently lending to Owens, Spencer and Ball C...      Available   \n",
            "3  Currently lending to Collins Ltd Corp., Mitche...      Available   \n",
            "4  Currently lending to Fletcher-Brown Corp., Bar...      Available   \n",
            "\n",
            "  Regulatory Compliance Documents                              Wallet Address  \n",
            "0                       Compliant  0xf57a95a0e390f1327831ef8739a5521b479908a8  \n",
            "1                       Compliant  0x0994945718ca2dd708ef84d910273741b910cddb  \n",
            "2                       Compliant  0x1f8c61fa4c37dc72d1971949b05e9bf6f45beffc  \n",
            "3                       Compliant  0xd86f9484ad56091f7ddc6389deae3972664953db  \n",
            "4                       Compliant  0x65264b7fc2a04e651756c1234670e6e7668429dd  \n"
          ]
        }
      ],
      "source": [
        "import pandas as pd\n",
        "\n",
        "# Load the CSV file\n",
        "df = pd.read_csv('lender_data.csv')\n",
        "\n",
        "# Convert 'Preferred Loan Size Min' and 'Preferred Loan Size Max' to numeric\n",
        "df['Preferred Loan Size Min'] = pd.to_numeric(df['Preferred Loan Size Min'], errors='coerce')\n",
        "df['Preferred Loan Size Max'] = pd.to_numeric(df['Preferred Loan Size Max'], errors='coerce')\n",
        "\n",
        "# Convert 'Loan Term Min' and 'Loan Term Max' to numeric (if not already)\n",
        "df['Loan Term Min'] = pd.to_numeric(df['Loan Term Min'], errors='coerce')\n",
        "df['Loan Term Max'] = pd.to_numeric(df['Loan Term Max'], errors='coerce')\n",
        "\n",
        "# Display the first few rows to verify\n",
        "print(df.head())\n",
        "\n",
        "# Optionally, save the cleaned DataFrame to a new CSV file\n",
        "df.to_csv('lender_data_cleaned.csv', index=False)\n"
      ]
    },
    {
      "cell_type": "code",
      "execution_count": null,
      "metadata": {
        "colab": {
          "base_uri": "https://localhost:8080/"
        },
        "id": "7xlCIQwRB29w",
        "outputId": "34e5a92f-1d74-4443-dc8f-a36cd27a8d3e"
      },
      "outputs": [
        {
          "name": "stdout",
          "output_type": "stream",
          "text": [
            "        Lender Name                                     Location  \\\n",
            "0        Carol Bush                Chanfurt, Rhode Island, Sudan   \n",
            "1      Rebecca Long      Ronaldchester, Pennsylvania, Micronesia   \n",
            "2    Lance Atkinson           Port Krista, Arkansas, Saint Lucia   \n",
            "3     Marissa Brown              Kennethside, Arkansas, Paraguay   \n",
            "4  William Gonzalez  West Jason, South Carolina, Solomon Islands   \n",
            "\n",
            "                     Preferred Industries  Preferred Loan Size Min  \\\n",
            "0         Healthcare, Healthcare, Finance                -0.552547   \n",
            "1  Renewable Energy, Finance, Real Estate                -0.100575   \n",
            "2   Finance, Renewable Energy, Healthcare                -1.345730   \n",
            "3   Technology, Renewable Energy, Finance                -1.598121   \n",
            "4  Finance, Real Estate, Renewable Energy                 1.148614   \n",
            "\n",
            "   Preferred Loan Size Max  Loan Term Min  Loan Term Max  \\\n",
            "0                -1.516751      -0.510745       0.868891   \n",
            "1                 0.736265      -1.208055       0.169864   \n",
            "2                 0.085798      -0.162090      -0.529164   \n",
            "3                -1.504979       1.581185       1.218404   \n",
            "4                 0.243702       1.581185       0.169864   \n",
            "\n",
            "                                     Lending History  \\\n",
            "0            Lent to Small-Randolph, Wright Inc Ltd.   \n",
            "1              Lent to Duncan PLC, Gentry-Davis Ltd.   \n",
            "2            Lent to Costa Ltd, Simpson-Ferrell Ltd.   \n",
            "3              Lent to Parker LLC, Morgan-Tyler Ltd.   \n",
            "4  Lent to Patterson, Carter and Lopez, Sutton-Ta...   \n",
            "\n",
            "                                   Portfolio Details Proof of Funds  \\\n",
            "0  Currently lending to Woods Group Corp., Rodrig...      Available   \n",
            "1  Currently lending to Henry and Sons Corp., Han...      Available   \n",
            "2  Currently lending to Owens, Spencer and Ball C...      Available   \n",
            "3  Currently lending to Collins Ltd Corp., Mitche...      Available   \n",
            "4  Currently lending to Fletcher-Brown Corp., Bar...      Available   \n",
            "\n",
            "  Regulatory Compliance Documents                              Wallet Address  \\\n",
            "0                       Compliant  0xf57a95a0e390f1327831ef8739a5521b479908a8   \n",
            "1                       Compliant  0x0994945718ca2dd708ef84d910273741b910cddb   \n",
            "2                       Compliant  0x1f8c61fa4c37dc72d1971949b05e9bf6f45beffc   \n",
            "3                       Compliant  0xd86f9484ad56091f7ddc6389deae3972664953db   \n",
            "4                       Compliant  0x65264b7fc2a04e651756c1234670e6e7668429dd   \n",
            "\n",
            "   Type_Individual  Type_Institutional  Risk Appetite_High  Risk Appetite_Low  \\\n",
            "0            False                True               False              False   \n",
            "1            False                True               False               True   \n",
            "2             True               False                True              False   \n",
            "3             True               False                True              False   \n",
            "4            False                True                True              False   \n",
            "\n",
            "   Risk Appetite_Medium  \n",
            "0                  True  \n",
            "1                 False  \n",
            "2                 False  \n",
            "3                 False  \n",
            "4                 False  \n",
            "17\n",
            "['Lender Name', 'Location', 'Preferred Industries', 'Preferred Loan Size Min', 'Preferred Loan Size Max', 'Loan Term Min', 'Loan Term Max', 'Lending History', 'Portfolio Details', 'Proof of Funds', 'Regulatory Compliance Documents', 'Wallet Address', 'Type_Individual', 'Type_Institutional', 'Risk Appetite_High', 'Risk Appetite_Low', 'Risk Appetite_Medium']\n"
          ]
        }
      ],
      "source": [
        "import pandas as pd\n",
        "from sklearn.preprocessing import StandardScaler\n",
        "\n",
        "# Step 1: Load the cleaned CSV file\n",
        "df = pd.read_csv('lender_data_cleaned.csv')\n",
        "\n",
        "# Step 2: Convert categorical variables to numeric using one-hot encoding\n",
        "df_preprocessed = pd.get_dummies(df, columns=['Type', 'Risk Appetite'])\n",
        "\n",
        "# Step 3: List of numerical columns to scale\n",
        "numerical_cols = ['Preferred Loan Size Min', 'Preferred Loan Size Max', 'Loan Term Min', 'Loan Term Max']\n",
        "\n",
        "# Step 4: Initialize the scaler\n",
        "scaler = StandardScaler()\n",
        "\n",
        "# Step 5: Apply scaling to numerical columns\n",
        "df_preprocessed[numerical_cols] = scaler.fit_transform(df_preprocessed[numerical_cols])\n",
        "\n",
        "# Step 6: If you have a target column, split the data into features and target\n",
        "# Assuming there's a 'target' column for demonstration purposes\n",
        "if 'target' in df_preprocessed.columns:\n",
        "    X = df_preprocessed.drop('target', axis=1)\n",
        "    y = df_preprocessed['target']\n",
        "else:\n",
        "    X = df_preprocessed\n",
        "\n",
        "# Step 7: Display the first few rows of the preprocessed data to verify\n",
        "print(X.head())\n",
        "\n",
        "# Step 8: Optionally, save the preprocessed DataFrame to a new CSV file\n",
        "X.to_csv('lender_data_preprocessed.csv', index=False)\n",
        "\n",
        "# Step 9: Print the list of extracted feature names\n",
        "feature_names = X.columns.tolist()\n",
        "print(len(feature_names))\n",
        "print(feature_names)\n"
      ]
    },
    {
      "cell_type": "markdown",
      "source": [
        "Step 9: Extracting required features from SMEs and Lenders DataSet"
      ],
      "metadata": {
        "id": "XoJ9SicaTK9_"
      }
    },
    {
      "cell_type": "code",
      "execution_count": null,
      "metadata": {
        "colab": {
          "base_uri": "https://localhost:8080/"
        },
        "id": "OK7FbcLDB9l-",
        "outputId": "3e603f89-5dab-4222-d109-b3fa24985360"
      },
      "outputs": [
        {
          "name": "stdout",
          "output_type": "stream",
          "text": [
            "Requirement already satisfied: pandas in /usr/local/lib/python3.10/dist-packages (2.1.4)\n",
            "Requirement already satisfied: scikit-learn in /usr/local/lib/python3.10/dist-packages (1.3.2)\n",
            "Requirement already satisfied: numpy<2,>=1.22.4 in /usr/local/lib/python3.10/dist-packages (from pandas) (1.26.4)\n",
            "Requirement already satisfied: python-dateutil>=2.8.2 in /usr/local/lib/python3.10/dist-packages (from pandas) (2.8.2)\n",
            "Requirement already satisfied: pytz>=2020.1 in /usr/local/lib/python3.10/dist-packages (from pandas) (2024.1)\n",
            "Requirement already satisfied: tzdata>=2022.1 in /usr/local/lib/python3.10/dist-packages (from pandas) (2024.1)\n",
            "Requirement already satisfied: scipy>=1.5.0 in /usr/local/lib/python3.10/dist-packages (from scikit-learn) (1.13.1)\n",
            "Requirement already satisfied: joblib>=1.1.1 in /usr/local/lib/python3.10/dist-packages (from scikit-learn) (1.4.2)\n",
            "Requirement already satisfied: threadpoolctl>=2.0.0 in /usr/local/lib/python3.10/dist-packages (from scikit-learn) (3.5.0)\n",
            "Requirement already satisfied: six>=1.5 in /usr/local/lib/python3.10/dist-packages (from python-dateutil>=2.8.2->pandas) (1.16.0)\n"
          ]
        }
      ],
      "source": [
        "pip install pandas scikit-learn"
      ]
    },
    {
      "cell_type": "code",
      "source": [
        "!pip install pandas scikit-learn surprise\n"
      ],
      "metadata": {
        "colab": {
          "base_uri": "https://localhost:8080/"
        },
        "id": "1jx-cvNADWKP",
        "outputId": "3434052f-413f-45b5-bae4-a6444acd65e9"
      },
      "execution_count": null,
      "outputs": [
        {
          "output_type": "stream",
          "name": "stdout",
          "text": [
            "Requirement already satisfied: pandas in /usr/local/lib/python3.10/dist-packages (2.1.4)\n",
            "Requirement already satisfied: scikit-learn in /usr/local/lib/python3.10/dist-packages (1.3.2)\n",
            "Collecting surprise\n",
            "  Downloading surprise-0.1-py2.py3-none-any.whl.metadata (327 bytes)\n",
            "Requirement already satisfied: numpy<2,>=1.22.4 in /usr/local/lib/python3.10/dist-packages (from pandas) (1.26.4)\n",
            "Requirement already satisfied: python-dateutil>=2.8.2 in /usr/local/lib/python3.10/dist-packages (from pandas) (2.8.2)\n",
            "Requirement already satisfied: pytz>=2020.1 in /usr/local/lib/python3.10/dist-packages (from pandas) (2024.1)\n",
            "Requirement already satisfied: tzdata>=2022.1 in /usr/local/lib/python3.10/dist-packages (from pandas) (2024.1)\n",
            "Requirement already satisfied: scipy>=1.5.0 in /usr/local/lib/python3.10/dist-packages (from scikit-learn) (1.13.1)\n",
            "Requirement already satisfied: joblib>=1.1.1 in /usr/local/lib/python3.10/dist-packages (from scikit-learn) (1.4.2)\n",
            "Requirement already satisfied: threadpoolctl>=2.0.0 in /usr/local/lib/python3.10/dist-packages (from scikit-learn) (3.5.0)\n",
            "Collecting scikit-surprise (from surprise)\n",
            "  Downloading scikit_surprise-1.1.4.tar.gz (154 kB)\n",
            "\u001b[2K     \u001b[90m━━━━━━━━━━━━━━━━━━━━━━━━━━━━━━━━━━━━━━━━\u001b[0m \u001b[32m154.4/154.4 kB\u001b[0m \u001b[31m3.5 MB/s\u001b[0m eta \u001b[36m0:00:00\u001b[0m\n",
            "\u001b[?25h  Installing build dependencies ... \u001b[?25l\u001b[?25hdone\n",
            "  Getting requirements to build wheel ... \u001b[?25l\u001b[?25hdone\n",
            "  Preparing metadata (pyproject.toml) ... \u001b[?25l\u001b[?25hdone\n",
            "Requirement already satisfied: six>=1.5 in /usr/local/lib/python3.10/dist-packages (from python-dateutil>=2.8.2->pandas) (1.16.0)\n",
            "Downloading surprise-0.1-py2.py3-none-any.whl (1.8 kB)\n",
            "Building wheels for collected packages: scikit-surprise\n",
            "  Building wheel for scikit-surprise (pyproject.toml) ... \u001b[?25l\u001b[?25hdone\n",
            "  Created wheel for scikit-surprise: filename=scikit_surprise-1.1.4-cp310-cp310-linux_x86_64.whl size=2357233 sha256=dbbd216678e1dfb6a4917babc22882d8467894a2fce61a954e9f8eb189d89194\n",
            "  Stored in directory: /root/.cache/pip/wheels/4b/3f/df/6acbf0a40397d9bf3ff97f582cc22fb9ce66adde75bc71fd54\n",
            "Successfully built scikit-surprise\n",
            "Installing collected packages: scikit-surprise, surprise\n",
            "Successfully installed scikit-surprise-1.1.4 surprise-0.1\n"
          ]
        }
      ]
    },
    {
      "cell_type": "code",
      "source": [
        "import pandas as pd\n",
        "\n",
        "# Load the data\n",
        "company_data = pd.read_csv('company_data.csv')  # Uploaded file\n",
        "lender_data = pd.read_csv('lender_data.csv')  # Uploaded file\n",
        "\n",
        "# Print columns\n",
        "print(\"Company Data Columns:\", company_data.columns.tolist())\n",
        "print(\"Lender Data Columns:\", lender_data.columns.tolist())\n"
      ],
      "metadata": {
        "colab": {
          "base_uri": "https://localhost:8080/"
        },
        "id": "uGKpn77eEShY",
        "outputId": "ae4b2056-8c1f-46b0-dc0d-08d2ff0f3e38"
      },
      "execution_count": null,
      "outputs": [
        {
          "output_type": "stream",
          "name": "stdout",
          "text": [
            "Company Data Columns: ['Company Name', 'Industry', 'Location', 'Size (Number of employees)', 'Size (Revenue)', 'Wallet Address (Public key)', 'GSTN (GST no.)', 'IT returns', 'Aadhar no.', 'PAN no.', 'Amount of Funding Needed', 'Purpose of Funding', 'Preferred Funding Type', 'Mission Statement', 'Products/Services', 'Objectives', 'Key Achievements', 'Industry Overview', 'Target Market', 'Market Needs', 'Market Trends', 'Competitive Analysis', 'Revenue Streams', 'Cost Structure', 'Key Partnerships', 'Distribution Channels', 'Customer Segments', 'Revenue Projections', 'Profit Projections', 'Customer Growth', 'Market Share Projections', 'Expansion Plans', 'Company Registration Number', 'Country of Incorporation', 'Tax Identification Number', 'Patent/Trademark Number', 'Type']\n",
            "Lender Data Columns: ['Lender Name', 'Type', 'Location', 'Preferred Industries', 'Preferred Loan Size Min', 'Preferred Loan Size Max', 'Loan Term Min', 'Loan Term Max', 'Risk Appetite', 'Lending History', 'Portfolio Details', 'Proof of Funds', 'Regulatory Compliance Documents', 'Wallet Address']\n"
          ]
        }
      ]
    },
    {
      "cell_type": "code",
      "source": [
        "# Required fields for SMEs\n",
        "sme_required_fields = [\n",
        "    'Company Name', 'Company Registration Number', 'Country of Incorporation',\n",
        "    'Executive Summary', 'Industry Overview', 'Target Market', 'Market Needs',\n",
        "    'Market Trends', 'Competitive Analysis', 'Business Model', 'Growth Projections',\n",
        "    'Balance Sheet', 'Income Statement', 'Credit Score', 'Funding History',\n",
        "    'Current Debts', 'Company Registration Details', 'Tax Identification Number',\n",
        "    'Patents/Trademarks', 'Wallet Address'\n",
        "]\n",
        "\n",
        "# Required fields for Investors\n",
        "investor_required_fields = [\n",
        "    'Investor Name', 'Type', 'Location', 'Preferred Industries',\n",
        "    'Preferred Investment Size', 'Investment Horizon', 'Risk Appetite',\n",
        "    'Investment History', 'Portfolio Details', 'Proof of Funds',\n",
        "    'Regulatory Compliance Documents', 'Wallet Address'\n",
        "]\n"
      ],
      "metadata": {
        "id": "D1XwfVHlMxZ4"
      },
      "execution_count": null,
      "outputs": []
    },
    {
      "cell_type": "code",
      "source": [
        "# Get the actual columns from the datasets\n",
        "company_data_columns = company_data.columns.tolist()\n",
        "lender_data_columns = lender_data.columns.tolist()\n",
        "\n",
        "# Find the matched fields\n",
        "sme_matched_fields = [field for field in sme_required_fields if field in company_data_columns]\n",
        "investor_matched_fields = [field for field in investor_required_fields if field in lender_data_columns]\n",
        "\n",
        "print(\"Matched SME Fields:\", sme_matched_fields)\n",
        "print(\"Matched Investor Fields:\", investor_matched_fields)\n",
        "\n",
        "# Extract the matched fields from the datasets\n",
        "sme_df = company_data[sme_matched_fields]\n",
        "investor_df = lender_data[investor_matched_fields]\n",
        "\n",
        "print(\"Extracted SME Data:\", sme_df.head())\n",
        "print(\"Extracted Investor Data:\", investor_df.head())\n"
      ],
      "metadata": {
        "colab": {
          "base_uri": "https://localhost:8080/"
        },
        "id": "LCWyNcKOOeI7",
        "outputId": "4d644d8e-c246-4e46-a08f-b13267e614c3"
      },
      "execution_count": null,
      "outputs": [
        {
          "output_type": "stream",
          "name": "stdout",
          "text": [
            "Matched SME Fields: ['Company Name', 'Company Registration Number', 'Country of Incorporation', 'Industry Overview', 'Target Market', 'Market Needs', 'Market Trends', 'Competitive Analysis', 'Tax Identification Number']\n",
            "Matched Investor Fields: ['Type', 'Location', 'Preferred Industries', 'Risk Appetite', 'Portfolio Details', 'Proof of Funds', 'Regulatory Compliance Documents', 'Wallet Address']\n",
            "Extracted SME Data:                  Company Name  Company Registration Number  \\\n",
            "0             Johnson-Sanchez                   5084980374   \n",
            "1             Richardson-Pugh                   2573193475   \n",
            "2  Conrad, Mejia and Ferguson                   5818692525   \n",
            "3                   Jones Ltd                   7757074578   \n",
            "4                  Roy-Miller                   2918684175   \n",
            "\n",
            "  Country of Incorporation                                  Industry Overview  \\\n",
            "0                  Ecuador  About drop think certainly rise. Five myself c...   \n",
            "1                  Germany  Rich take need lot reveal. Mouth style authori...   \n",
            "2                  Bahrain  Article war laugh painting along clear. Republ...   \n",
            "3                    Kenya  Live glass mission religious. Sing president m...   \n",
            "4              Timor-Leste  Business media of owner fact speech. Top inste...   \n",
            "\n",
            "                      Target Market  \\\n",
            "0  particularly; whole; good; write   \n",
            "1           pull; memory; any; away   \n",
            "2  loss; attack; attention; federal   \n",
            "3         his; tonight; owner; risk   \n",
            "4   water; describe; work; resource   \n",
            "\n",
            "                                  Market Needs  \\\n",
            "0  almost; performance; station; environmental   \n",
            "1               without; remember; agent; stop   \n",
            "2            behavior; human; chance; painting   \n",
            "3                 character; natural; east; my   \n",
            "4                call; morning; stock; meeting   \n",
            "\n",
            "                         Market Trends  \\\n",
            "0            eat; already; skill; need   \n",
            "1  owner; organization; skill; protect   \n",
            "2            eat; decide; argue; avoid   \n",
            "3               save; senior; TV; join   \n",
            "4      food; feeling; line; Republican   \n",
            "\n",
            "                                Competitive Analysis  \\\n",
            "0  Act identify main Mr down perform wear woman.;...   \n",
            "1  Wrong stand why water rate baby factor.; Trip ...   \n",
            "2  Adult instead find remain writer record.; Clea...   \n",
            "3  Reason vote gas concern.; Manage green standar...   \n",
            "4  Recognize PM yeah indicate decade.; Expect wea...   \n",
            "\n",
            "   Tax Identification Number  \n",
            "0                  618247614  \n",
            "1                  579368223  \n",
            "2                  698844000  \n",
            "3                  729204088  \n",
            "4                  973269860  \n",
            "Extracted Investor Data:             Type                                     Location  \\\n",
            "0  Institutional                Chanfurt, Rhode Island, Sudan   \n",
            "1  Institutional      Ronaldchester, Pennsylvania, Micronesia   \n",
            "2     Individual           Port Krista, Arkansas, Saint Lucia   \n",
            "3     Individual              Kennethside, Arkansas, Paraguay   \n",
            "4  Institutional  West Jason, South Carolina, Solomon Islands   \n",
            "\n",
            "                     Preferred Industries Risk Appetite  \\\n",
            "0         Healthcare, Healthcare, Finance        Medium   \n",
            "1  Renewable Energy, Finance, Real Estate           Low   \n",
            "2   Finance, Renewable Energy, Healthcare          High   \n",
            "3   Technology, Renewable Energy, Finance          High   \n",
            "4  Finance, Real Estate, Renewable Energy          High   \n",
            "\n",
            "                                   Portfolio Details Proof of Funds  \\\n",
            "0  Currently lending to Woods Group Corp., Rodrig...      Available   \n",
            "1  Currently lending to Henry and Sons Corp., Han...      Available   \n",
            "2  Currently lending to Owens, Spencer and Ball C...      Available   \n",
            "3  Currently lending to Collins Ltd Corp., Mitche...      Available   \n",
            "4  Currently lending to Fletcher-Brown Corp., Bar...      Available   \n",
            "\n",
            "  Regulatory Compliance Documents                              Wallet Address  \n",
            "0                       Compliant  0xf57a95a0e390f1327831ef8739a5521b479908a8  \n",
            "1                       Compliant  0x0994945718ca2dd708ef84d910273741b910cddb  \n",
            "2                       Compliant  0x1f8c61fa4c37dc72d1971949b05e9bf6f45beffc  \n",
            "3                       Compliant  0xd86f9484ad56091f7ddc6389deae3972664953db  \n",
            "4                       Compliant  0x65264b7fc2a04e651756c1234670e6e7668429dd  \n"
          ]
        }
      ]
    },
    {
      "cell_type": "code",
      "source": [
        "import pandas as pd\n",
        "from sklearn.feature_extraction.text import TfidfVectorizer\n",
        "from sklearn.metrics.pairwise import cosine_similarity\n",
        "\n",
        "# Sample data for SMEs\n",
        "smes_data = {\n",
        "    'Company Name': ['SME1', 'SME2', 'SME3'],\n",
        "    'Company Registration Number': ['123', '456', '789'],\n",
        "    'Country of Incorporation': ['USA', 'Canada', 'UK'],\n",
        "    'Industry Overview': ['Technology', 'Healthcare', 'Finance'],\n",
        "    'Target Market': ['Global', 'North America', 'Europe'],\n",
        "    'Market Needs': ['Innovation', 'Funding', 'Growth'],\n",
        "    'Market Trends': ['AI', 'Telemedicine', 'Fintech'],\n",
        "    'Competitive Analysis': ['High', 'Medium', 'Low'],\n",
        "    'Tax Identification Number': ['TIN123', 'TIN456', 'TIN789']\n",
        "}\n",
        "\n",
        "# Sample data for Investors\n",
        "investors_data = {\n",
        "    'Type': ['Venture Capital', 'Angel Investor', 'Private Equity'],\n",
        "    'Location': ['USA', 'Canada', 'UK'],\n",
        "    'Preferred Industries': ['Technology', 'Healthcare', 'Finance'],\n",
        "    'Risk Appetite': ['High', 'Medium', 'Low'],\n",
        "    'Portfolio Details': ['Tech Startups', 'Health Startups', 'Financial Startups'],\n",
        "    'Proof of Funds': ['Yes', 'Yes', 'Yes'],\n",
        "    'Regulatory Compliance Documents': ['Complete', 'Complete', 'Complete'],\n",
        "    'Wallet Address': ['ADDR123', 'ADDR456', 'ADDR789']\n",
        "}\n",
        "\n",
        "# Convert dictionaries to DataFrames\n",
        "smes = pd.DataFrame(smes_data)\n",
        "investors = pd.DataFrame(investors_data)\n",
        "\n",
        "# Display the sample data\n",
        "print(smes)\n",
        "print(investors)\n"
      ],
      "metadata": {
        "colab": {
          "base_uri": "https://localhost:8080/"
        },
        "id": "jAi1W7f3OlL3",
        "outputId": "d56a0da0-2206-4a0b-ce7a-7180e27584a0"
      },
      "execution_count": null,
      "outputs": [
        {
          "output_type": "stream",
          "name": "stdout",
          "text": [
            "  Company Name Company Registration Number Country of Incorporation  \\\n",
            "0         SME1                         123                      USA   \n",
            "1         SME2                         456                   Canada   \n",
            "2         SME3                         789                       UK   \n",
            "\n",
            "  Industry Overview  Target Market Market Needs Market Trends  \\\n",
            "0        Technology         Global   Innovation            AI   \n",
            "1        Healthcare  North America      Funding  Telemedicine   \n",
            "2           Finance         Europe       Growth       Fintech   \n",
            "\n",
            "  Competitive Analysis Tax Identification Number  \n",
            "0                 High                    TIN123  \n",
            "1               Medium                    TIN456  \n",
            "2                  Low                    TIN789  \n",
            "              Type Location Preferred Industries Risk Appetite  \\\n",
            "0  Venture Capital      USA           Technology          High   \n",
            "1   Angel Investor   Canada           Healthcare        Medium   \n",
            "2   Private Equity       UK              Finance           Low   \n",
            "\n",
            "    Portfolio Details Proof of Funds Regulatory Compliance Documents  \\\n",
            "0       Tech Startups            Yes                        Complete   \n",
            "1     Health Startups            Yes                        Complete   \n",
            "2  Financial Startups            Yes                        Complete   \n",
            "\n",
            "  Wallet Address  \n",
            "0        ADDR123  \n",
            "1        ADDR456  \n",
            "2        ADDR789  \n"
          ]
        }
      ]
    },
    {
      "cell_type": "code",
      "source": [
        "import pickle"
      ],
      "metadata": {
        "id": "qr7RnAuVHCMw"
      },
      "execution_count": null,
      "outputs": []
    },
    {
      "cell_type": "markdown",
      "source": [
        "Step 11: Training the model using Content-Based Filtering"
      ],
      "metadata": {
        "id": "HljOhEhETlew"
      }
    },
    {
      "cell_type": "code",
      "source": [
        "# Combine relevant fields into a single string for each SME and Investor\n",
        "smes['combined_info'] = smes.apply(lambda row: f\"{row['Industry Overview']} {row['Target Market']} {row['Market Needs']} {row['Market Trends']} {row['Competitive Analysis']}\", axis=1)\n",
        "investors['combined_info'] = investors.apply(lambda row: f\"{row['Preferred Industries']} {row['Risk Appetite']} {row['Portfolio Details']} {row['Proof of Funds']} {row['Regulatory Compliance Documents']}\", axis=1)\n",
        "\n",
        "# Vectorize the combined information\n",
        "vectorizer = TfidfVectorizer(stop_words='english')\n",
        "smes_tfidf = vectorizer.fit_transform(smes['combined_info'])\n",
        "investors_tfidf = vectorizer.transform(investors['combined_info'])\n",
        "\n",
        "# Compute cosine similarity between SMEs and Investors\n",
        "similarity_matrix = cosine_similarity(smes_tfidf, investors_tfidf)\n",
        "\n",
        "# Save the model and vectorizer\n",
        "with open('model.pkl', 'wb') as model_file:\n",
        "    pickle.dump({\n",
        "        'similarity_matrix': similarity_matrix,\n",
        "        'smes': smes,\n",
        "        'investors': investors\n",
        "    }, model_file)\n",
        "\n",
        "with open('vectorizer.pkl', 'wb') as vectorizer_file:\n",
        "    pickle.dump(vectorizer, vectorizer_file)\n",
        "\n",
        "# Load the model and vectorizer\n",
        "with open('model.pkl', 'rb') as model_file:\n",
        "    model = pickle.load(model_file)\n",
        "\n",
        "with open('vectorizer.pkl', 'rb') as vectorizer_file:\n",
        "    vectorizer = pickle.load(vectorizer_file)\n",
        "\n",
        "similarity_matrix = model['similarity_matrix']\n",
        "smes = model['smes']\n",
        "investors = model['investors']\n",
        "\n",
        "# Function to get top N investor recommendations for a given SME\n",
        "def get_top_investor_recommendations(sme_index, num_recommendations=2):\n",
        "    similar_investors = list(enumerate(similarity_matrix[sme_index]))\n",
        "    similar_investors = sorted(similar_investors, key=lambda x: x[1], reverse=True)\n",
        "    top_investors = similar_investors[:num_recommendations]\n",
        "    return [investors.iloc[i[0]] for i in top_investors]\n",
        "\n",
        "# Example: Get recommendations for the first SME\n",
        "recommendations = get_top_investor_recommendations(sme_index=0, num_recommendations=2)\n",
        "for idx, investor in enumerate(recommendations):\n",
        "    print(f\"Recommendation {idx + 1}:\")\n",
        "    print(investor)\n",
        "    print(\"\\n\")"
      ],
      "metadata": {
        "colab": {
          "base_uri": "https://localhost:8080/"
        },
        "id": "PpJf-M9KGB29",
        "outputId": "be0571ae-bb90-4e49-ceda-e301ec005b0b"
      },
      "execution_count": null,
      "outputs": [
        {
          "output_type": "stream",
          "name": "stdout",
          "text": [
            "Recommendation 1:\n",
            "Type                                                          Venture Capital\n",
            "Location                                                                  USA\n",
            "Preferred Industries                                               Technology\n",
            "Risk Appetite                                                            High\n",
            "Portfolio Details                                               Tech Startups\n",
            "Proof of Funds                                                            Yes\n",
            "Regulatory Compliance Documents                                      Complete\n",
            "Wallet Address                                                        ADDR123\n",
            "combined_info                      Technology High Tech Startups Yes Complete\n",
            "Name: 0, dtype: object\n",
            "\n",
            "\n",
            "Recommendation 2:\n",
            "Type                                                               Angel Investor\n",
            "Location                                                                   Canada\n",
            "Preferred Industries                                                   Healthcare\n",
            "Risk Appetite                                                              Medium\n",
            "Portfolio Details                                                 Health Startups\n",
            "Proof of Funds                                                                Yes\n",
            "Regulatory Compliance Documents                                          Complete\n",
            "Wallet Address                                                            ADDR456\n",
            "combined_info                      Healthcare Medium Health Startups Yes Complete\n",
            "Name: 1, dtype: object\n",
            "\n",
            "\n"
          ]
        }
      ]
    }
  ],
  "metadata": {
    "colab": {
      "provenance": []
    },
    "kernelspec": {
      "display_name": "Python 3",
      "name": "python3"
    },
    "language_info": {
      "name": "python"
    }
  },
  "nbformat": 4,
  "nbformat_minor": 0
}